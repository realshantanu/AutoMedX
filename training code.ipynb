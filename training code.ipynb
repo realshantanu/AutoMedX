{
 "cells": [
  {
   "cell_type": "code",
   "execution_count": 1,
   "metadata": {},
   "outputs": [],
   "source": [
    "class cfg:\n",
    "    IMAGE_SIZE = 128\n",
    "\n",
    "    # Data Augmentation\n",
    "    BRIGHTNESS = (0.64, 1.37) # (MIN, MAX)\n",
    "    CONTRAST   = (0.64, 1.37) # (MIN, MAX)\n",
    "\n",
    "    # Train-Val Split\n",
    "    TRAIN_VAL_SPLIT = 0.8 # 80% of all the samples are used for training, and the rest for validation\n",
    "\n",
    "    # Model Training\n",
    "    BATCH_SIZE = 8\n",
    "    EPOCHS = 20\n",
    "    LEARNING_RATE = 0.00008"
   ]
  },
  {
   "cell_type": "code",
   "execution_count": null,
   "metadata": {},
   "outputs": [],
   "source": [
    "# Miscellaneous\n",
    "from tqdm import tqdm\n",
    "import random\n",
    "import os\n",
    "import time\n",
    "# Turn off tensorflow warnings\n",
    "os.environ['TF_CPP_MIN_LOG_LEVEL'] = '2' \n",
    "\n",
    "# For Data Processing & ML Models\n",
    "import numpy as np\n",
    "import pandas as pd\n",
    "from sklearn.utils import shuffle\n",
    "from sklearn.metrics import classification_report\n",
    "import tensorflow as tf\n",
    "from tensorflow.keras import layers\n",
    "from tensorflow.keras import models\n",
    "from tensorflow.keras import optimizers\n",
    "from tensorflow.keras.preprocessing.image import load_img\n",
    "from PIL import Image, ImageEnhance\n",
    "import cv2\n",
    "\n",
    "# For Data Visualization\n",
    "import matplotlib.pyplot as plt\n",
    "import seaborn as sns\n",
    "import plotly.express as px\n",
    "import plotly.graph_objects as go\n",
    "from plotly.subplots import make_subplots\n",
    "# Enable offline usage of plotly\n",
    "import plotly.offline as pyo\n",
    "pyo.init_notebook_mode(connected=True)\n",
    "\n",
    "from IPython.display import clear_output\n",
    "clear_output()"
   ]
  },
  {
   "cell_type": "code",
   "execution_count": null,
   "metadata": {},
   "outputs": [],
   "source": [
    "tf.random.set_seed(100)\n",
    "np.random.seed(100)"
   ]
  },
  {
   "cell_type": "code",
   "execution_count": null,
   "metadata": {},
   "outputs": [],
   "source": [
    "tf.keras.mixed_precision.set_global_policy('mixed_float16')"
   ]
  },
  {
   "cell_type": "code",
   "execution_count": null,
   "metadata": {},
   "outputs": [],
   "source": [
    "data_directories = []#dataset\n",
    "\n",
    "all_paths = []\n",
    "all_labels = []\n",
    "\n",
    "for data_dir in data_directories:\n",
    "    for label in os.listdir(data_dir):\n",
    "        for image in os.listdir(data_dir+label):\n",
    "            all_paths.append(data_dir+label+'/'+image)\n",
    "            if label=='TURBERCULOSIS':\n",
    "                all_labels.append('TUBERCULOSIS')\n",
    "            else:\n",
    "                all_labels.append(label)\n",
    "\n",
    "all_paths, all_labels = shuffle(all_paths, all_labels)\n",
    "\n",
    "pd.set_option('display.max_colwidth', None)\n",
    "df = pd.DataFrame({'path':all_paths, 'label':all_labels})\n",
    "df"
   ]
  },
  {
   "cell_type": "code",
   "execution_count": null,
   "metadata": {},
   "outputs": [],
   "source": [
    "plt.rcParams.update({'font.size': 13})\n",
    "\n",
    "plt.figure(figsize=(7,7))\n",
    "\n",
    "# plotting data on chart\n",
    "plt.pie(list(df.label.value_counts()),\n",
    "        labels=list(df.label.value_counts().index),\n",
    "        colors=['#43b0c1', '#368d9a', '#286a74', '#69c0cd'],\n",
    "        autopct='%.0f%%', wedgeprops = { 'linewidth' : 7, 'edgecolor' : 'white' })\n",
    "\n",
    "my_circle=plt.Circle((0,0), 0.675, color='white')\n",
    "p=plt.gcf()\n",
    "p.gca().add_artist(my_circle)\n",
    "plt.title('Dataset\\nDistribution', x=0.5, y=0.45) \n",
    "plt.show()"
   ]
  },
  {
   "cell_type": "code",
   "execution_count": null,
   "metadata": {},
   "outputs": [],
   "source": [
    "def augment_image(image):\n",
    "    # Convert input image from numpy to PIL Image\n",
    "    image = Image.fromarray(np.uint8(image)) \n",
    "    # Select brightness and contrast factors\n",
    "    brightness_factor = random.uniform(cfg.BRIGHTNESS[0],cfg.BRIGHTNESS[1])\n",
    "    contrast_factor = random.uniform(cfg.CONTRAST[0],cfg.CONTRAST[1])\n",
    "    # Apply Transformations\n",
    "    image = ImageEnhance.Brightness(image).enhance(brightness_factor)\n",
    "    image = ImageEnhance.Contrast(image).enhance(contrast_factor)\n",
    "    return image"
   ]
  },
  {
   "cell_type": "code",
   "execution_count": null,
   "metadata": {},
   "outputs": [],
   "source": [
    "def open_images(paths, augment=True):\n",
    "    '''\n",
    "    Given a list of paths to images, this function returns the images as arrays, and conditionally augments them\n",
    "    '''\n",
    "    images = []\n",
    "    for path in paths:\n",
    "        image = load_img(path, target_size=(cfg.IMAGE_SIZE,cfg.IMAGE_SIZE))\n",
    "        if augment:\n",
    "            image = augment_image(image)\n",
    "        image = np.array(image)\n",
    "        image = image/image.max()\n",
    "        images.append(image)\n",
    "    return np.array(images)\n",
    "\n",
    "# Randomly select and plot a few images with augmentation\n",
    "k = random.randint(0,5000)\n",
    "image_paths = list(df.path[k:k+10])\n",
    "labels = list(df.label[k:k+10])\n",
    "images = open_images(image_paths, augment=True)\n",
    "\n",
    "plt.rcParams.update({'font.size': 10})\n",
    "fig = plt.figure(figsize=(20, 8))\n",
    "\n",
    "for i in range(0, 10):\n",
    "    fig.add_subplot(2, 5, i+1)\n",
    "    plt.imshow(images[i])\n",
    "    plt.axis('off')\n",
    "    plt.title(labels[i])\n",
    "plt.show()"
   ]
  },
  {
   "cell_type": "code",
   "execution_count": null,
   "metadata": {},
   "outputs": [],
   "source": [
    "LABELS = ['NORMAL', 'TUBERCULOSIS', 'PNEUMONIA', 'COVID19']\n",
    "label_encoder = {'NORMAL': 0, 'TUBERCULOSIS': 1, 'PNEUMONIA': 2, 'COVID19': 3}\n",
    "label_decoder = {0: 'NORMAL', 1: 'TUBERCULOSIS', 2: 'PNEUMONIA', 3: 'COVID19'}"
   ]
  },
  {
   "cell_type": "code",
   "execution_count": null,
   "metadata": {},
   "outputs": [],
   "source": [
    "df_train = df[:int(cfg.TRAIN_VAL_SPLIT*len(df))]\n",
    "df_val = df[int(cfg.TRAIN_VAL_SPLIT*len(df)):]"
   ]
  },
  {
   "cell_type": "code",
   "execution_count": null,
   "metadata": {},
   "outputs": [],
   "source": [
    "plt.rcParams.update({'font.size': 13})\n",
    "fig = plt.figure(figsize=(14, 7))\n",
    "\n",
    "fig.add_subplot(1, 2, 1)\n",
    "plt.pie(list(df_train.label.value_counts()),\n",
    "        labels=list(df_train.label.value_counts().index),\n",
    "        colors=['#43b0c1', '#368d9a', '#286a74', '#69c0cd'],\n",
    "        autopct='%.0f%%', wedgeprops = { 'linewidth' : 7, 'edgecolor' : 'white' })\n",
    "\n",
    "my_circle=plt.Circle((0,0), 0.675, color='white')\n",
    "p=plt.gcf()\n",
    "p.gca().add_artist(my_circle)\n",
    "plt.axis('off')\n",
    "plt.title('Training', x=0.5, y=0.5) \n",
    "\n",
    "\n",
    "fig.add_subplot(1, 2, 2)\n",
    "plt.pie(list(df_val.label.value_counts()),\n",
    "        labels=list(df_val.label.value_counts().index),\n",
    "        colors=['#43b0c1', '#368d9a', '#286a74', '#69c0cd'],\n",
    "        autopct='%.0f%%', wedgeprops = { 'linewidth' : 7, 'edgecolor' : 'white' })\n",
    "\n",
    "my_circle=plt.Circle((0,0), 0.675, color='white')\n",
    "p=plt.gcf()\n",
    "p.gca().add_artist(my_circle)\n",
    "plt.axis('off')\n",
    "plt.title('Validation', x=0.5, y=0.5) \n",
    "\n",
    "plt.show()"
   ]
  },
  {
   "cell_type": "code",
   "execution_count": null,
   "metadata": {},
   "outputs": [],
   "source": [
    "def data_generator(df, batch_size=cfg.BATCH_SIZE, augment=True, epochs=cfg.EPOCHS):\n",
    "    for e in range(epochs):\n",
    "        for x in range(0,len(df), batch_size):\n",
    "            image_paths = df.path[x:x+batch_size]\n",
    "            images = open_images(image_paths, augment=augment)\n",
    "            labels = df.label[x:x+batch_size]\n",
    "            labels = [label_encoder[label] for label in labels]\n",
    "            yield images, np.array(labels)"
   ]
  },
  {
   "cell_type": "code",
   "execution_count": null,
   "metadata": {},
   "outputs": [],
   "source": [
    "# Creating generators for training and validation. You can change the parameters in the configuration section.\n",
    "train_data_generator = data_generator(df_train, batch_size=cfg.BATCH_SIZE, augment=True, epochs=cfg.EPOCHS)\n",
    "train_steps = int(len(df_train)/cfg.BATCH_SIZE)\n",
    "\n",
    "val_data_generator = data_generator(df_val, batch_size=cfg.BATCH_SIZE, augment=False, epochs=cfg.EPOCHS)\n",
    "val_steps = int(len(df_val)/cfg.BATCH_SIZE)"
   ]
  },
  {
   "cell_type": "code",
   "execution_count": null,
   "metadata": {},
   "outputs": [],
   "source": [
    "model = models.Sequential(name='classifier')\n",
    "model.add(layers.Input(shape=(cfg.IMAGE_SIZE, cfg.IMAGE_SIZE, 3), name='input'))\n",
    "model.add(layers.Conv2D(32, (3,3), activation='relu', padding='same', name='block1_conv1'))\n",
    "model.add(layers.Conv2D(32, (3,3), activation='relu', padding='same', name='block1_conv2'))\n",
    "model.add(layers.MaxPool2D(pool_size=(2,2), name='pool1'))\n",
    "model.add(layers.Conv2D(64, (3,3), activation='relu', padding='same', name='block2_conv1'))\n",
    "model.add(layers.Conv2D(64, (3,3), activation='relu', padding='same', name='block2_conv2'))\n",
    "model.add(layers.MaxPool2D(pool_size=(2,2), name='pool2'))\n",
    "model.add(layers.Conv2D(128, (3,3), activation='relu', padding='same', name='block3_conv1'))\n",
    "model.add(layers.Conv2D(128, (3,3), activation='relu', padding='same', name='block3_conv2'))\n",
    "model.add(layers.MaxPool2D(pool_size=(2,2), name='pool3'))\n",
    "model.add(layers.Flatten(name='flatten'))\n",
    "model.add(layers.Dropout(0.3, name='dropout1'))\n",
    "model.add(layers.Dense(128, activation='relu', name='dense1'))\n",
    "model.add(layers.Dense(4, activation='softmax', name='final'))\n",
    "\n",
    "model.summary()"
   ]
  },
  {
   "cell_type": "code",
   "execution_count": null,
   "metadata": {},
   "outputs": [],
   "source": [
    "model.compile(optimizer=optimizers.Adam(learning_rate=cfg.LEARNING_RATE),\n",
    "             loss='sparse_categorical_crossentropy',\n",
    "             metrics=['accuracy'])"
   ]
  },
  {
   "cell_type": "code",
   "execution_count": null,
   "metadata": {},
   "outputs": [],
   "source": [
    "class_weights = (df_train.label.value_counts() / len(df_train)).to_dict()\n",
    "class_weights = dict((label_encoder[key], value) for (key, value) in class_weights.items())\n",
    "class_weights"
   ]
  },
  {
   "cell_type": "code",
   "execution_count": null,
   "metadata": {},
   "outputs": [],
   "source": [
    "model_checkpoint_callback = tf.keras.callbacks.ModelCheckpoint(\n",
    "    filepath='model.hdf5',\n",
    "    save_weights_only=False,\n",
    "    monitor='val_accuracy',\n",
    "    mode='max', verbose=1,\n",
    "    save_best_only=True)\n",
    "\n",
    "history = model.fit(train_data_generator, epochs=cfg.EPOCHS, steps_per_epoch=train_steps, class_weight=class_weights,\n",
    "          validation_data=val_data_generator, validation_steps=val_steps, callbacks=[model_checkpoint_callback])"
   ]
  },
  {
   "cell_type": "code",
   "execution_count": null,
   "metadata": {},
   "outputs": [],
   "source": [
    "val_data_generator = data_generator(df_val, batch_size=cfg.BATCH_SIZE, augment=False, epochs=1)\n",
    "val_steps = int(len(df_val)/cfg.BATCH_SIZE)\n",
    "\n",
    "y_pred = []\n",
    "y_true = []\n",
    "\n",
    "for x,y in tqdm(val_data_generator, total=val_steps):\n",
    "    pred = model.predict(x)\n",
    "    pred = np.argmax(pred, axis=-1)\n",
    "    for i in pred:\n",
    "        y_pred.append(label_decoder[i])\n",
    "    for i in y:\n",
    "        y_true.append(label_decoder[i])\n",
    "clear_output()\n",
    "print(classification_report(y_true, y_pred, digits=4))"
   ]
  }
 ],
 "metadata": {
  "kernelspec": {
   "display_name": "Python 3",
   "language": "python",
   "name": "python3"
  },
  "language_info": {
   "codemirror_mode": {
    "name": "ipython",
    "version": 3
   },
   "file_extension": ".py",
   "mimetype": "text/x-python",
   "name": "python",
   "nbconvert_exporter": "python",
   "pygments_lexer": "ipython3",
   "version": "3.11.3"
  },
  "orig_nbformat": 4
 },
 "nbformat": 4,
 "nbformat_minor": 2
}
